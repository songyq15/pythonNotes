{
 "cells": [
  {
   "cell_type": "code",
   "execution_count": 1,
   "id": "d8f8ce71-a39b-4178-813c-0a7b9aa20853",
   "metadata": {},
   "outputs": [
    {
     "name": "stdout",
     "output_type": "stream",
     "text": [
      "hello world!\n"
     ]
    }
   ],
   "source": [
    "print(\"hello world!\")"
   ]
  },
  {
   "cell_type": "markdown",
   "id": "342755aa-ba64-4076-93cd-bcbd270ba2d0",
   "metadata": {},
   "source": [
    "## 这是一个测试\n"
   ]
  },
  {
   "cell_type": "code",
   "execution_count": null,
   "id": "fd219132-a094-47dc-a871-c4c6b199fb0f",
   "metadata": {},
   "outputs": [],
   "source": []
  }
 ],
 "metadata": {
  "kernelspec": {
   "display_name": "Python 3",
   "language": "python",
   "name": "python3"
  },
  "language_info": {
   "codemirror_mode": {
    "name": "ipython",
    "version": 3
   },
   "file_extension": ".py",
   "mimetype": "text/x-python",
   "name": "python",
   "nbconvert_exporter": "python",
   "pygments_lexer": "ipython3",
   "version": "3.8.8"
  }
 },
 "nbformat": 4,
 "nbformat_minor": 5
}
